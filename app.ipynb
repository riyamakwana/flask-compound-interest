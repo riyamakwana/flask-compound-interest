{
 "cells": [
  {
   "cell_type": "code",
   "execution_count": 1,
   "id": "bb0fa73b",
   "metadata": {},
   "outputs": [
    {
     "name": "stdout",
     "output_type": "stream",
     "text": [
      "Collecting package metadata (current_repodata.json): ...working... done\n",
      "Solving environment: ...working... done\n",
      "\n",
      "# All requested packages already installed.\n",
      "\n",
      "Retrieving notices: ...working... done\n",
      "\n",
      "Note: you may need to restart the kernel to use updated packages.\n"
     ]
    }
   ],
   "source": [
    "conda install -c anaconda flask"
   ]
  },
  {
   "cell_type": "code",
   "execution_count": 2,
   "id": "57583466",
   "metadata": {},
   "outputs": [
    {
     "name": "stdout",
     "output_type": "stream",
     "text": [
      "Name: Flask\n",
      "Version: 1.1.2\n",
      "Summary: A simple framework for building complex web applications.\n",
      "Home-page: https://palletsprojects.com/p/flask/\n",
      "Author: Armin Ronacher\n",
      "Author-email: armin.ronacher@active-4.com\n",
      "License: BSD-3-Clause\n",
      "Location: c:\\users\\riyam\\anaconda3\\lib\\site-packages\n",
      "Requires: click, itsdangerous, Jinja2, Werkzeug\n",
      "Required-by: \n",
      "Note: you may need to restart the kernel to use updated packages.\n"
     ]
    }
   ],
   "source": [
    "pip show flask"
   ]
  },
  {
   "cell_type": "code",
   "execution_count": 2,
   "id": "eb9c448d",
   "metadata": {},
   "outputs": [
    {
     "name": "stdout",
     "output_type": "stream",
     "text": [
      " * Serving Flask app \"__main__\" (lazy loading)\n",
      " * Environment: production\n",
      "\u001b[31m   WARNING: This is a development server. Do not use it in a production deployment.\u001b[0m\n",
      "\u001b[2m   Use a production WSGI server instead.\u001b[0m\n",
      " * Debug mode: on\n"
     ]
    },
    {
     "name": "stderr",
     "output_type": "stream",
     "text": [
      " * Running on http://127.0.0.1:5001/ (Press CTRL+C to quit)\n",
      "127.0.0.1 - - [25/Feb/2025 22:21:17] \"GET / HTTP/1.1\" 200 -\n",
      "127.0.0.1 - - [25/Feb/2025 22:21:17] \"GET /favicon.ico HTTP/1.1\" 404 -\n"
     ]
    }
   ],
   "source": [
    "from datetime import datetime\n",
    "import pandas as pd\n",
    "from flask import Flask, request, send_file\n",
    "import os\n",
    "\n",
    "app = Flask(__name__)\n",
    "\n",
    "UPLOAD_FOLDER = \"uploads\"\n",
    "if not os.path.exists(UPLOAD_FOLDER):\n",
    "    os.makedirs(UPLOAD_FOLDER)\n",
    "\n",
    "@app.route(\"/\", methods=[\"GET\", \"POST\"])\n",
    "def upload_file():\n",
    "    if request.method == \"POST\":\n",
    "        file = request.files[\"file\"]\n",
    "        if file.filename == \"\":\n",
    "            return \"No file selected!\"\n",
    "\n",
    "        filepath = os.path.join(UPLOAD_FOLDER, file.filename)\n",
    "        file.save(filepath)\n",
    "\n",
    "        # Process the Excel file\n",
    "        output_file = calculate_compound_interest(filepath)\n",
    "        \n",
    "        return send_file(output_file, as_attachment=True)\n",
    "\n",
    "    return '''\n",
    "    <!doctype html>\n",
    "    <html>\n",
    "    <body>\n",
    "        <h2>Upload Excel File</h2>\n",
    "        <form action=\"/\" method=\"post\" enctype=\"multipart/form-data\">\n",
    "            <input type=\"file\" name=\"file\">\n",
    "            <input type=\"submit\" value=\"Upload and Process\">\n",
    "        </form>\n",
    "    </body>\n",
    "    </html>\n",
    "    '''\n",
    "\n",
    "def calculate_compound_interest(filepath):\n",
    "    df = pd.read_excel(filepath)\n",
    "\n",
    "    expected_columns = {\"Principal\", \"Rate\", \"StartDate\", \"MaturityDate\", \"CompoundsPerYear\"}\n",
    "    if not expected_columns.issubset(df.columns):\n",
    "        return \"Error: Excel must have Principal, Rate, StartDate, MaturityDate, and CompoundsPerYear columns.\"\n",
    "\n",
    "    # Convert dates to datetime format\n",
    "    df[\"StartDate\"] = pd.to_datetime(df[\"StartDate\"])\n",
    "    df[\"MaturityDate\"] = pd.to_datetime(df[\"MaturityDate\"])\n",
    "\n",
    "    # Calculate time in years (t)\n",
    "    df[\"Time\"] = (df[\"MaturityDate\"] - df[\"StartDate\"]).dt.days / 365.25\n",
    "\n",
    "    # Apply compound interest formula\n",
    "    df[\"Amount\"] = df.apply(\n",
    "        lambda row: row[\"Principal\"] * (1 + row[\"Rate\"] / row[\"CompoundsPerYear\"]) ** (row[\"CompoundsPerYear\"] * row[\"Time\"]),\n",
    "        axis=1\n",
    "    )\n",
    "\n",
    "    output_path = os.path.join(UPLOAD_FOLDER, \"output_\" + os.path.basename(filepath))\n",
    "    df.to_excel(output_path, index=False)\n",
    "\n",
    "    return output_path\n",
    "\n",
    "if __name__ == \"__main__\":\n",
    "    app.run(debug=True, use_reloader=False, port=5001)  # Fixed restart issue & changed port\n"
   ]
  },
  {
   "cell_type": "code",
   "execution_count": 4,
   "id": "0a149a27",
   "metadata": {},
   "outputs": [],
   "source": [
    "with open(\"app.py\", \"w\") as f:\n",
    "    f.write(\"\"\"from datetime import datetime\n",
    "import pandas as pd\n",
    "from flask import Flask, request, send_file\n",
    "import os\n",
    "\n",
    "app = Flask(__name__)\n",
    "\n",
    "UPLOAD_FOLDER = \"uploads\"\n",
    "if not os.path.exists(UPLOAD_FOLDER):\n",
    " os.makedirs(UPLOAD_FOLDER)\n",
    "\n",
    "@app.route(\"/\", methods=[\"GET\", \"POST\"])\n",
    "def upload_file():\n",
    " if request.method == \"POST\":\n",
    "     file = request.files[\"file\"]\n",
    "     if file.filename == \"\":\n",
    "         return \"No file selected!\"\n",
    "\n",
    "     filepath = os.path.join(UPLOAD_FOLDER, file.filename)\n",
    "     file.save(filepath)\n",
    "\n",
    "     # Process the Excel file\n",
    "     output_file = calculate_compound_interest(filepath)\n",
    "     \n",
    "     return send_file(output_file, as_attachment=True)\n",
    "\n",
    " return '''\n",
    " <!doctype html>\n",
    " <html>\n",
    " <body>\n",
    "     <h2>Upload Excel File</h2>\n",
    "     <form action=\"/\" method=\"post\" enctype=\"multipart/form-data\">\n",
    "         <input type=\"file\" name=\"file\">\n",
    "         <input type=\"submit\" value=\"Upload and Process\">\n",
    "     </form>\n",
    " </body>\n",
    " </html>\n",
    " '''\n",
    "\n",
    "def calculate_compound_interest(filepath):\n",
    " df = pd.read_excel(filepath)\n",
    "\n",
    " expected_columns = {\"Principal\", \"Rate\", \"StartDate\", \"MaturityDate\", \"CompoundsPerYear\"}\n",
    " if not expected_columns.issubset(df.columns):\n",
    "     return \"Error: Excel must have Principal, Rate, StartDate, MaturityDate, and CompoundsPerYear columns.\"\n",
    "\n",
    " # Convert dates to datetime format\n",
    " df[\"StartDate\"] = pd.to_datetime(df[\"StartDate\"])\n",
    " df[\"MaturityDate\"] = pd.to_datetime(df[\"MaturityDate\"])\n",
    "\n",
    " # Calculate time in years (t)\n",
    " df[\"Time\"] = (df[\"MaturityDate\"] - df[\"StartDate\"]).dt.days / 365.25\n",
    "\n",
    " # Apply compound interest formula\n",
    " df[\"Amount\"] = df.apply(\n",
    "     lambda row: row[\"Principal\"] * (1 + row[\"Rate\"] / row[\"CompoundsPerYear\"]) ** (row[\"CompoundsPerYear\"] * row[\"Time\"]),\n",
    "     axis=1\n",
    " )\n",
    "\n",
    " output_path = os.path.join(UPLOAD_FOLDER, \"output_\" + os.path.basename(filepath))\n",
    " df.to_excel(output_path, index=False)\n",
    "\n",
    " return output_path\n",
    "\n",
    "if __name__ == \"__main__\":\n",
    " app.run(debug=True, use_reloader=False, port=5001)\"\"\")\n"
   ]
  },
  {
   "cell_type": "code",
   "execution_count": null,
   "id": "cf5b8ca1",
   "metadata": {},
   "outputs": [],
   "source": []
  }
 ],
 "metadata": {
  "kernelspec": {
   "display_name": "Python 3 (ipykernel)",
   "language": "python",
   "name": "python3"
  },
  "language_info": {
   "codemirror_mode": {
    "name": "ipython",
    "version": 3
   },
   "file_extension": ".py",
   "mimetype": "text/x-python",
   "name": "python",
   "nbconvert_exporter": "python",
   "pygments_lexer": "ipython3",
   "version": "3.9.13"
  }
 },
 "nbformat": 4,
 "nbformat_minor": 5
}
